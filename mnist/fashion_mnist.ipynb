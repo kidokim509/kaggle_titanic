{
 "cells": [
  {
   "cell_type": "markdown",
   "metadata": {},
   "source": [
    "# Fasion MNIST\n",
    "https://github.com/zalandoresearch/fashion-mnist\n",
    "\n",
    "## Why not MNIST?\n",
    "1. MNIST is too easy.  \n",
    "Convolutional nets can achieve 99.7% on MNIST easily, and similarly, even classic ML algorithms can achieve 97%.\n",
    "2. MNIST is overused.  \n",
    "Almost everyone who has experience with deep learning has come across MNIST at least once.\n",
    "3. MNIST cannot represent modern CV tasks.  \n",
    "This was noted by François Chollet, the author of the Keras library.\n",
    "\n",
    "## Overview\n",
    "* The Fashion MNIST training set contains 55,000 examples, \n",
    "* and the test set contains 10,000 examples.\n",
    "* Each example is a 28x28 grayscale image (just like the images in the original MNIST), \n",
    "* associated with a label from 10 classes\n",
    "\n",
    "### Labels\n",
    "Each training and test example is assigned to one of the following labels:\n",
    "\n",
    "| Label | Description |\n",
    "| --- | --- |\n",
    "| 0 | T-shirt/top (티셔츠/탑) |\n",
    "| 1 | Trouser (바지) |\n",
    "| 2 | Pullover (스웨터) |\n",
    "| 3 | Dress (드레스) |\n",
    "| 4 | Coat (코트) |\n",
    "| 5 | Sandal (샌달) |\n",
    "| 6 | Shirt (셔츠) |\n",
    "| 7 | Sneaker (신발-스니커즈) |\n",
    "| 8 | Bag (가방) |\n",
    "| 9 | Ankle boot (짧은 부츠) |"
   ]
  },
  {
   "cell_type": "code",
   "execution_count": 9,
   "metadata": {},
   "outputs": [],
   "source": [
    "import numpy as np\n",
    "import matplotlib.pyplot as plt\n",
    "import tensorflow as tf\n",
    "from tensorflow.python.framework import ops\n",
    "from tensorflow.examples.tutorials.mnist import input_data\n",
    "\n",
    "%matplotlib inline"
   ]
  },
  {
   "cell_type": "code",
   "execution_count": 17,
   "metadata": {},
   "outputs": [
    {
     "name": "stdout",
     "output_type": "stream",
     "text": [
      "Extracting fashion-data/train-images-idx3-ubyte.gz\n",
      "Extracting fashion-data/train-labels-idx1-ubyte.gz\n",
      "Extracting fashion-data/t10k-images-idx3-ubyte.gz\n",
      "Extracting fashion-data/t10k-labels-idx1-ubyte.gz\n"
     ]
    }
   ],
   "source": [
    "# Import Fashion MNIST\n",
    "fashion_mnist = input_data.read_data_sets('fashion-data', one_hot=True)\n",
    "\n",
    "# Create dictionary of target classes\n",
    "label_dict = {\n",
    " 0: 'T-shirt/top',\n",
    " 1: 'Trouser',\n",
    " 2: 'Pullover',\n",
    " 3: 'Dress',\n",
    " 4: 'Coat',\n",
    " 5: 'Sandal',\n",
    " 6: 'Shirt',\n",
    " 7: 'Sneaker',\n",
    " 8: 'Bag',\n",
    " 9: 'Ankle boot'\n",
    "}"
   ]
  },
  {
   "cell_type": "code",
   "execution_count": 28,
   "metadata": {},
   "outputs": [
    {
     "name": "stdout",
     "output_type": "stream",
     "text": [
      "y = 3 (Dress)\n"
     ]
    },
    {
     "data": {
      "text/plain": [
       "(array([3]),)"
      ]
     },
     "execution_count": 28,
     "metadata": {},
     "output_type": "execute_result"
    },
    {
     "data": {
      "image/png": "[encoded data removed]",
      "text/plain": [
       "<matplotlib.figure.Figure at 0x1c310c3828>"
      ]
     },
     "metadata": {},
     "output_type": "display_data"
    }
   ],
   "source": [
    "# 샘플 보기\n",
    "# Sample 1\n",
    "\n",
    "# Get 28x28 image\n",
    "sample_1 = fashion_mnist.train.images[47].reshape(28,28)\n",
    "# Get corresponding integer label from one-hot encoded data\n",
    "sample_label_1 = np.where(fashion_mnist.train.labels[47] == 1)[0][0]\n",
    "# Plot sample\n",
    "print(\"y = {label_index} ({label})\".format(label_index=sample_label_1, label=label_dict[sample_label_1]))\n",
    "plt.imshow(sample_1, cmap='Greys')\n",
    "np.where(fashion_mnist.train.labels[47] == 1)"
   ]
  },
  {
   "cell_type": "code",
   "execution_count": 20,
   "metadata": {},
   "outputs": [
    {
     "name": "stdout",
     "output_type": "stream",
     "text": [
      "y = 7 (Sneaker)\n"
     ]
    },
    {
     "data": {
      "text/plain": [
       "<matplotlib.image.AxesImage at 0x1c30d36dd8>"
      ]
     },
     "execution_count": 20,
     "metadata": {},
     "output_type": "execute_result"
    },
    {
     "data": {
      "image/png": "[encoded data removed]",
      "text/plain": [
       "<matplotlib.figure.Figure at 0x1c30c92e10>"
      ]
     },
     "metadata": {},
     "output_type": "display_data"
    }
   ],
   "source": [
    "# Sample 2\n",
    "\n",
    "# Get 28x28 image\n",
    "sample_2 = fashion_mnist.train.images[23].reshape(28,28)\n",
    "# Get corresponding integer label from one-hot encoded data\n",
    "sample_label_2 = np.where(fashion_mnist.train.labels[23] == 1)[0][0]\n",
    "# Plot sample\n",
    "print(\"y = {label_index} ({label})\".format(label_index=sample_label_2, label=label_dict[sample_label_2]))\n",
    "plt.imshow(sample_2, cmap='Greys')"
   ]
  },
  {
   "cell_type": "code",
   "execution_count": null,
   "metadata": {
    "collapsed": true
   },
   "outputs": [],
   "source": []
  }
 ],
 "metadata": {
  "kernelspec": {
   "display_name": "Python 3",
   "language": "python",
   "name": "python3"
  },
  "language_info": {
   "codemirror_mode": {
    "name": "ipython",
    "version": 3
   },
   "file_extension": ".py",
   "mimetype": "text/x-python",
   "name": "python",
   "nbconvert_exporter": "python",
   "pygments_lexer": "ipython3",
   "version": "3.6.3"
  }
 },
 "nbformat": 4,
 "nbformat_minor": 2
}
