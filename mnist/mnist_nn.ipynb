{
 "cells": [
  {
   "cell_type": "code",
   "execution_count": 1,
   "metadata": {},
   "outputs": [
    {
     "name": "stderr",
     "output_type": "stream",
     "text": [
      "/Users/olaf/anaconda3/lib/python3.6/site-packages/h5py/__init__.py:36: FutureWarning: Conversion of the second argument of issubdtype from `float` to `np.floating` is deprecated. In future, it will be treated as `np.float64 == np.dtype(float).type`.\n",
      "  from ._conv import register_converters as _register_converters\n"
     ]
    }
   ],
   "source": [
    "import tensorflow as tf"
   ]
  },
  {
   "cell_type": "markdown",
   "metadata": {},
   "source": [
    "# MNIST database\n",
    "* Modified National Institute of Standards and Technology\n",
    "* https://en.wikipedia.org/wiki/MNIST_database\n",
    "* http://yann.lecun.com/exdb/mnist/\n",
    "\n",
    "## 손글씨 분류 by MLP\n",
    "* 본 예제는 3분 딥러닝 예제 코드를 참고하여 만들었습니다.  \n",
    "(https://github.com/golbin/TensorFlow-Tutorials/blob/master/06%20-%20MNIST/01%20-%20MNIST.py)"
   ]
  },
  {
   "cell_type": "code",
   "execution_count": 2,
   "metadata": {},
   "outputs": [
    {
     "name": "stdout",
     "output_type": "stream",
     "text": [
      "WARNING:tensorflow:From <ipython-input-2-356b4495f668>:8: read_data_sets (from tensorflow.contrib.learn.python.learn.datasets.mnist) is deprecated and will be removed in a future version.\n",
      "Instructions for updating:\n",
      "Please use alternatives such as official/mnist/dataset.py from tensorflow/models.\n",
      "WARNING:tensorflow:From /Users/olaf/anaconda3/lib/python3.6/site-packages/tensorflow/contrib/learn/python/learn/datasets/mnist.py:260: maybe_download (from tensorflow.contrib.learn.python.learn.datasets.base) is deprecated and will be removed in a future version.\n",
      "Instructions for updating:\n",
      "Please write your own downloading logic.\n",
      "WARNING:tensorflow:From /Users/olaf/anaconda3/lib/python3.6/site-packages/tensorflow/contrib/learn/python/learn/datasets/mnist.py:262: extract_images (from tensorflow.contrib.learn.python.learn.datasets.mnist) is deprecated and will be removed in a future version.\n",
      "Instructions for updating:\n",
      "Please use tf.data to implement this functionality.\n",
      "Extracting ./data/train-images-idx3-ubyte.gz\n",
      "WARNING:tensorflow:From /Users/olaf/anaconda3/lib/python3.6/site-packages/tensorflow/contrib/learn/python/learn/datasets/mnist.py:267: extract_labels (from tensorflow.contrib.learn.python.learn.datasets.mnist) is deprecated and will be removed in a future version.\n",
      "Instructions for updating:\n",
      "Please use tf.data to implement this functionality.\n",
      "Extracting ./data/train-labels-idx1-ubyte.gz\n",
      "WARNING:tensorflow:From /Users/olaf/anaconda3/lib/python3.6/site-packages/tensorflow/contrib/learn/python/learn/datasets/mnist.py:110: dense_to_one_hot (from tensorflow.contrib.learn.python.learn.datasets.mnist) is deprecated and will be removed in a future version.\n",
      "Instructions for updating:\n",
      "Please use tf.one_hot on tensors.\n",
      "Extracting ./data/t10k-images-idx3-ubyte.gz\n",
      "Extracting ./data/t10k-labels-idx1-ubyte.gz\n",
      "WARNING:tensorflow:From /Users/olaf/anaconda3/lib/python3.6/site-packages/tensorflow/contrib/learn/python/learn/datasets/mnist.py:290: DataSet.__init__ (from tensorflow.contrib.learn.python.learn.datasets.mnist) is deprecated and will be removed in a future version.\n",
      "Instructions for updating:\n",
      "Please use alternatives such as official/mnist/dataset.py from tensorflow/models.\n"
     ]
    }
   ],
   "source": [
    "# MNIST 데이터\n",
    "from tensorflow.examples.tutorials.mnist import input_data\n",
    "\n",
    "# https://github.com/tensorflow/tensorflow/tree/master/tensorflow/examples\n",
    "# https://github.com/tensorflow/tensorflow/tree/master/tensorflow/contrib/learn/python/learn/datasets\n",
    "# 여기만 잘 봐도 실습 코드와 연습용 데이터(mnist, dbpedia 등) 가득\n",
    "\n",
    "mnist = input_data.read_data_sets(\"./data/\", one_hot=True)"
   ]
  },
  {
   "cell_type": "markdown",
   "metadata": {},
   "source": [
    "## NN 모델 만들기\n",
    "* Input Layer     : 784 Neurons\n",
    "* Hidden Layer #1 : 256 Neurons (W: 정규분포 평균 0 & 표준편차 0.01, B: 0, Activation: ReLU)\n",
    "* Hidden Layer #2 : 256 Neurons (W: 정규분포 평균 0 & 표준편차 0.01, B: 0, Activation: ReLU)\n",
    "* Output Layer    : 10 Neurons  (W: 정규분포 평균 0 & 표준편차 0.01, B: 0, Activation: Softmax)"
   ]
  },
  {
   "cell_type": "code",
   "execution_count": 2,
   "metadata": {},
   "outputs": [
    {
     "ename": "NameError",
     "evalue": "name 'tf' is not defined",
     "output_type": "error",
     "traceback": [
      "\u001b[0;31m---------------------------------------------------------------------------\u001b[0m",
      "\u001b[0;31mNameError\u001b[0m                                 Traceback (most recent call last)",
      "\u001b[0;32m<ipython-input-2-c386594d9d67>\u001b[0m in \u001b[0;36m<module>\u001b[0;34m()\u001b[0m\n\u001b[1;32m      6\u001b[0m \u001b[0;34m\u001b[0m\u001b[0m\n\u001b[1;32m      7\u001b[0m \u001b[0;31m# https://www.tensorflow.org/versions/r1.8/api_docs/python/tf/placeholder\u001b[0m\u001b[0;34m\u001b[0m\u001b[0;34m\u001b[0m\u001b[0m\n\u001b[0;32m----> 8\u001b[0;31m \u001b[0mX\u001b[0m \u001b[0;34m=\u001b[0m \u001b[0mtf\u001b[0m\u001b[0;34m.\u001b[0m\u001b[0mplaceholder\u001b[0m\u001b[0;34m(\u001b[0m\u001b[0mtf\u001b[0m\u001b[0;34m.\u001b[0m\u001b[0mfloat32\u001b[0m\u001b[0;34m,\u001b[0m \u001b[0;34m[\u001b[0m\u001b[0;32mNone\u001b[0m\u001b[0;34m,\u001b[0m \u001b[0;36m784\u001b[0m\u001b[0;34m]\u001b[0m\u001b[0;34m)\u001b[0m\u001b[0;34m\u001b[0m\u001b[0m\n\u001b[0m\u001b[1;32m      9\u001b[0m \u001b[0;34m\u001b[0m\u001b[0m\n\u001b[1;32m     10\u001b[0m \u001b[0;31m# 결과 값: 0~9 10가지 분류로 만듬\u001b[0m\u001b[0;34m\u001b[0m\u001b[0;34m\u001b[0m\u001b[0m\n",
      "\u001b[0;31mNameError\u001b[0m: name 'tf' is not defined"
     ]
    }
   ],
   "source": [
    "# >>>>>>>>>> LAYERS (Weight, Bias, Activation)\n",
    "\n",
    "# INPUT LAYER: 손글씨 이미지는 28*28 = 784개의 feature \n",
    "# 이미지 1장 (1, 784): array([[0., 0., 0.8078432, ... 0.14901961, 0.]])\n",
    "# 결과  1장 (1, 10): array([[0., 1., 0., 0., 0., 0., 0., 0., 0., 0.]])\n",
    "\n",
    "# https://www.tensorflow.org/versions/r1.8/api_docs/python/tf/placeholder\n",
    "X = tf.placeholder(tf.float32, [None, 784])\n",
    "\n",
    "# 결과 값: 0~9 10가지 분류로 만듬\n",
    "Y = tf.placeholder(tf.float32, [None, 10])\n",
    "\n",
    "# https://www.tensorflow.org/versions/r1.8/api_docs/python/tf/Variable\n",
    "# https://www.tensorflow.org/versions/r1.8/api_docs/python/tf/random_normal\n",
    "# https://www.tensorflow.org/versions/r1.8/api_docs/python/tf/nn/relu\n",
    "W1 = tf.Variable(tf.random_normal([784, 256], mean=0.0, stddev=0.01))\n",
    "B1 = tf.Variable(tf.zeros([256]))\n",
    "H1 = tf.nn.relu(tf.add(tf.matmul(X, W1), B1))\n",
    "\n",
    "W2 = tf.Variable(tf.random_normal([256, 256], mean=0.0, stddev=0.01))\n",
    "B2 = tf.Variable(tf.zeros([256]))\n",
    "H2 = tf.nn.relu(tf.add(tf.matmul(H1, W2), B2))\n",
    "\n",
    "W3 = tf.Variable(tf.random_normal([256, 10], mean=0.0, stddev=0.01))\n",
    "B3 = tf.Variable(tf.zeros([10]))\n",
    "output  = tf.add(tf.matmul(H2, W3), B3)\n",
    "# https://www.tensorflow.org/versions/r1.8/api_docs/python/tf/nn/softmax\n",
    "prediction = tf.nn.softmax(output) # 학습할 때도 Softmax를 수행하지 않게 하려면?"
   ]
  },
  {
   "cell_type": "code",
   "execution_count": 4,
   "metadata": {},
   "outputs": [],
   "source": [
    "# >>>>>>>>>> ERROR(COST, LOSS) FUNCTION: Cross Entropy, MSE, ...\n",
    "\n",
    "# https://www.tensorflow.org/versions/r1.8/api_docs/python/tf/reduce_sum\n",
    "# https://www.tensorflow.org/versions/r1.8/api_docs/python/tf/reduce_mean\n",
    "# https://www.tensorflow.org/versions/r1.8/api_docs/python/tf/log\n",
    "# https://www.tensorflow.org/versions/r1.8/api_docs/python/tf/nn/softmax_cross_entropy_with_logits_v2\n",
    "error = tf.reduce_mean(-tf.reduce_sum(Y * tf.log(prediction), axis=1))"
   ]
  },
  {
   "cell_type": "code",
   "execution_count": 5,
   "metadata": {},
   "outputs": [],
   "source": [
    "# >>>>>>>>>> OPTIMIZER (by Backpropagation & Gradient Descent & ...)\n",
    "\n",
    "learning_rate = 0.01\n",
    "# https://www.tensorflow.org/versions/r1.8/api_docs/python/tf/train/GradientDescentOptimizer\n",
    "# https://www.tensorflow.org/versions/r1.8/api_docs/python/tf/train/MomentumOptimizer  \n",
    "# https://www.tensorflow.org/versions/r1.8/api_docs/python/tf/train/RMSPropOptimizer\n",
    "# https://www.tensorflow.org/versions/r1.8/api_docs/python/tf/train/AdamOptimizer\n",
    "optimizer = tf.train.GradientDescentOptimizer(learning_rate).minimize(error)"
   ]
  },
  {
   "cell_type": "markdown",
   "metadata": {},
   "source": [
    "## NN 학습 (by mini-batch)"
   ]
  },
  {
   "cell_type": "code",
   "execution_count": 14,
   "metadata": {},
   "outputs": [
    {
     "name": "stdout",
     "output_type": "stream",
     "text": [
      "Epoch: 0001\n",
      "Avg. Error = 0.004, Valid. Error: 2.301, Accuracy: 0.113\n",
      "Epoch: 0002\n",
      "Avg. Error = 0.004, Valid. Error: 2.297, Accuracy: 0.113\n",
      "Epoch: 0003\n",
      "Avg. Error = 0.004, Valid. Error: 2.281, Accuracy: 0.281\n",
      "Epoch: 0004\n",
      "Avg. Error = 0.004, Valid. Error: 2.177, Accuracy: 0.290\n",
      "Epoch: 0005\n",
      "Avg. Error = 0.003, Valid. Error: 1.710, Accuracy: 0.473\n",
      "Epoch: 0006\n",
      "Avg. Error = 0.003, Valid. Error: 1.415, Accuracy: 0.528\n",
      "Epoch: 0007\n",
      "Avg. Error = 0.003, Valid. Error: 1.286, Accuracy: 0.551\n",
      "Epoch: 0008\n",
      "Avg. Error = 0.002, Valid. Error: 1.153, Accuracy: 0.611\n",
      "Epoch: 0009\n",
      "Avg. Error = 0.002, Valid. Error: 1.088, Accuracy: 0.629\n",
      "Epoch: 0010\n",
      "Avg. Error = 0.002, Valid. Error: 1.049, Accuracy: 0.634\n"
     ]
    }
   ],
   "source": [
    "mini_batch_size = 100 # 미니 배치의 크기 (이미지 수)\n",
    "batch_count = int(mnist.train.num_examples / mini_batch_size) # 배치 횟수 (몇 번의 배치를 돌아야 1 Epoch이 완성 되는가)\n",
    "epoch_count = 10 # Epoch 횟수\n",
    "validation_count = 5000\n",
    "\n",
    "init = tf.global_variables_initializer()\n",
    "with tf.Session() as sess: \n",
    "    sess.run(init)\n",
    "    \n",
    "    for epoch in range(epoch_count):\n",
    "        # Epoch 구간\n",
    "        total_error = 0\n",
    "        \n",
    "        for i in range(batch_count):\n",
    "            # 미니 배치 구간\n",
    "            # mnist.train.next_batch: 전체 training set을 shuffle한 다음 mini_batch_size 만큼 반환\n",
    "            train_x, train_y = mnist.train.next_batch(mini_batch_size)\n",
    "            \n",
    "            _, error_value = sess.run([optimizer, error], feed_dict={X: train_x, Y: train_y})\n",
    "            \n",
    "            total_error += error_value\n",
    "        \n",
    "        # Accuracy 구하기\n",
    "        valid_x, valid_y = mnist.validation.next_batch(validation_count)\n",
    "\n",
    "        is_correct = tf.equal(tf.argmax(prediction, 1), tf.argmax(Y, 1))\n",
    "        accuracy = tf.reduce_mean(tf.cast(is_correct, tf.float32))\n",
    "\n",
    "        valid_error_value, valid_accuracy_value, valid_pred = sess.run(\n",
    "            [error, accuracy, prediction], feed_dict={X: valid_x, Y: valid_y})\n",
    "\n",
    "        print('Epoch:', '%04d' % (epoch + 1))\n",
    "        print('Avg. Error = {:.3f}, Valid. Error: {:.3f}, Accuracy: {:.3f}'.format(\n",
    "            total_error / batch_count,\n",
    "            valid_error_value, \n",
    "            valid_accuracy_value))\n"
   ]
  },
  {
   "cell_type": "markdown",
   "metadata": {},
   "source": [
    "## 그림 확인 하기"
   ]
  },
  {
   "cell_type": "code",
   "execution_count": 15,
   "metadata": {},
   "outputs": [
    {
     "data": {
      "image/png": "[encoded data removed]",
      "text/plain": [
       "<Figure size 432x288 with 10 Axes>"
      ]
     },
     "metadata": {},
     "output_type": "display_data"
    }
   ],
   "source": [
    "import matplotlib.pyplot as plt\n",
    "import numpy as np\n",
    "\n",
    "fig = plt.figure()\n",
    "for i in range(10):\n",
    "    subplot = fig.add_subplot(2, 5, i + 1)\n",
    "    subplot.set_xticks([])\n",
    "    subplot.set_yticks([])\n",
    "    subplot.set_title('%d' % np.argmax(valid_pred[i]))\n",
    "    subplot.imshow(mnist.validation.images[i].reshape((28, 28)),\n",
    "                   cmap=plt.cm.gray_r)\n",
    "\n",
    "plt.show()"
   ]
  },
  {
   "cell_type": "code",
   "execution_count": null,
   "metadata": {},
   "outputs": [],
   "source": []
  }
 ],
 "metadata": {
  "kernelspec": {
   "display_name": "Python 3",
   "language": "python",
   "name": "python3"
  },
  "language_info": {
   "codemirror_mode": {
    "name": "ipython",
    "version": 3
   },
   "file_extension": ".py",
   "mimetype": "text/x-python",
   "name": "python",
   "nbconvert_exporter": "python",
   "pygments_lexer": "ipython3",
   "version": "3.6.5"
  }
 },
 "nbformat": 4,
 "nbformat_minor": 2
}
