{
 "cells": [
  {
   "cell_type": "code",
   "execution_count": 1,
   "metadata": {},
   "outputs": [],
   "source": [
    "from __future__ import division\n",
    "import math, random, re\n",
    "from collections import defaultdict, Counter\n",
    "from bs4 import BeautifulSoup\n",
    "import requests"
   ]
  },
  {
   "cell_type": "code",
   "execution_count": 2,
   "metadata": {},
   "outputs": [],
   "source": [
    "def sample_from(weights): \n",
    "    \"\"\"i를 weights[i] / sum(weights)의 확률로 반환\"\"\"\n",
    "    total = sum(weights)\n",
    "    rnd = total * random.random()    # 0과 total 사이를 균일하게 선택 (Return the next random floating point number in the range [0.0, 1.0).)\n",
    "    for i, w in enumerate(weights):\n",
    "        rnd -= w                     # 밑의 주석의 식을 만족하는 가장 작은 i를 반환\n",
    "        if rnd <= 0: return i        # weights[0] + ... + weights[i] >= rnd"
   ]
  },
  {
   "cell_type": "code",
   "execution_count": 3,
   "metadata": {},
   "outputs": [],
   "source": [
    "documents = [\n",
    "    [\"Hadoop\", \"Big Data\", \"HBase\", \"Java\", \"Spark\", \"Storm\", \"Cassandra\"],\n",
    "    [\"NoSQL\", \"MongoDB\", \"Cassandra\", \"HBase\", \"Postgres\"],\n",
    "    [\"Python\", \"scikit-learn\", \"scipy\", \"numpy\", \"statsmodels\", \"pandas\"],\n",
    "    [\"R\", \"Python\", \"statistics\", \"regression\", \"probability\"],\n",
    "    [\"machine learning\", \"regression\", \"decision trees\", \"libsvm\"],\n",
    "    [\"Python\", \"R\", \"Java\", \"C++\", \"Haskell\", \"programming languages\"],\n",
    "    [\"statistics\", \"probability\", \"mathematics\", \"theory\"],\n",
    "    [\"machine learning\", \"scikit-learn\", \"Mahout\", \"neural networks\"],\n",
    "    [\"neural networks\", \"deep learning\", \"Big Data\", \"artificial intelligence\"],\n",
    "    [\"Hadoop\", \"Java\", \"MapReduce\", \"Big Data\"],\n",
    "    [\"statistics\", \"R\", \"statsmodels\"],\n",
    "    [\"C++\", \"deep learning\", \"artificial intelligence\", \"probability\"],\n",
    "    [\"pandas\", \"R\", \"Python\"],\n",
    "    [\"databases\", \"HBase\", \"Postgres\", \"MySQL\", \"MongoDB\"],\n",
    "    [\"libsvm\", \"regression\", \"support vector machines\"]\n",
    "]"
   ]
  },
  {
   "cell_type": "code",
   "execution_count": 4,
   "metadata": {},
   "outputs": [],
   "source": [
    "K = 4"
   ]
  },
  {
   "cell_type": "code",
   "execution_count": 11,
   "metadata": {},
   "outputs": [
    {
     "data": {
      "text/plain": [
       "[Counter(),\n",
       " Counter(),\n",
       " Counter(),\n",
       " Counter(),\n",
       " Counter(),\n",
       " Counter(),\n",
       " Counter(),\n",
       " Counter(),\n",
       " Counter(),\n",
       " Counter(),\n",
       " Counter(),\n",
       " Counter(),\n",
       " Counter(),\n",
       " Counter(),\n",
       " Counter()]"
      ]
     },
     "execution_count": 11,
     "metadata": {},
     "output_type": "execute_result"
    }
   ],
   "source": [
    "# 각 토픽이 각 문서에 할당되는 횟수\n",
    "# Counter로 구성된 list\n",
    "# 각각의 Counter는 각 문서를 의미함\n",
    "document_topic_counts = [Counter() for _ in documents]\n",
    "document_topic_counts"
   ]
  },
  {
   "cell_type": "code",
   "execution_count": 12,
   "metadata": {},
   "outputs": [
    {
     "data": {
      "text/plain": [
       "[Counter(), Counter(), Counter(), Counter()]"
      ]
     },
     "execution_count": 12,
     "metadata": {},
     "output_type": "execute_result"
    }
   ],
   "source": [
    "# 각 단어가 각 토픽에 할당되는 횟수\n",
    "# Counter로 구성된 list\n",
    "topic_word_counts = [Counter() for _ in range(K)]\n",
    "topic_word_counts"
   ]
  },
  {
   "cell_type": "code",
   "execution_count": 13,
   "metadata": {},
   "outputs": [
    {
     "data": {
      "text/plain": [
       "[0, 0, 0, 0]"
      ]
     },
     "execution_count": 13,
     "metadata": {},
     "output_type": "execute_result"
    }
   ],
   "source": [
    "# 각 토픽에 할당되는 총 단어 수\n",
    "# 숫자로 구성된 list\n",
    "# 각각의 숫자는 각 토픽을 의미함\n",
    "topic_counts = [0 for _ in range(K)]\n",
    "topic_counts"
   ]
  },
  {
   "cell_type": "code",
   "execution_count": 10,
   "metadata": {},
   "outputs": [
    {
     "data": {
      "text/plain": [
       "[7, 5, 6, 5, 4, 6, 4, 4, 4, 4, 3, 4, 3, 5, 3]"
      ]
     },
     "execution_count": 10,
     "metadata": {},
     "output_type": "execute_result"
    }
   ],
   "source": [
    "# 각 문서에 포함되는 총 단어 수\n",
    "# 숫자로 구성된 list\n",
    "# 각각의 숫자는 각 문서를 의미함\n",
    "document_lengths = list(map(len, documents))\n",
    "document_lengths"
   ]
  },
  {
   "cell_type": "code",
   "execution_count": 14,
   "metadata": {},
   "outputs": [
    {
     "data": {
      "text/plain": [
       "{'Big Data',\n",
       " 'C++',\n",
       " 'Cassandra',\n",
       " 'HBase',\n",
       " 'Hadoop',\n",
       " 'Haskell',\n",
       " 'Java',\n",
       " 'Mahout',\n",
       " 'MapReduce',\n",
       " 'MongoDB',\n",
       " 'MySQL',\n",
       " 'NoSQL',\n",
       " 'Postgres',\n",
       " 'Python',\n",
       " 'R',\n",
       " 'Spark',\n",
       " 'Storm',\n",
       " 'artificial intelligence',\n",
       " 'databases',\n",
       " 'decision trees',\n",
       " 'deep learning',\n",
       " 'libsvm',\n",
       " 'machine learning',\n",
       " 'mathematics',\n",
       " 'neural networks',\n",
       " 'numpy',\n",
       " 'pandas',\n",
       " 'probability',\n",
       " 'programming languages',\n",
       " 'regression',\n",
       " 'scikit-learn',\n",
       " 'scipy',\n",
       " 'statistics',\n",
       " 'statsmodels',\n",
       " 'support vector machines',\n",
       " 'theory'}"
      ]
     },
     "execution_count": 14,
     "metadata": {},
     "output_type": "execute_result"
    }
   ],
   "source": [
    "# 단어 종류 수\n",
    "distinct_words = set(word for document in documents for word in document)\n",
    "W = len(distinct_words)\n",
    "distinct_words"
   ]
  },
  {
   "cell_type": "code",
   "execution_count": 31,
   "metadata": {},
   "outputs": [],
   "source": [
    "D = len(documents)"
   ]
  },
  {
   "cell_type": "code",
   "execution_count": 21,
   "metadata": {},
   "outputs": [
    {
     "data": {
      "text/plain": [
       "0"
      ]
     },
     "execution_count": 21,
     "metadata": {},
     "output_type": "execute_result"
    }
   ],
   "source": [
    "document_topic_counts[3][1]"
   ]
  },
  {
   "cell_type": "code",
   "execution_count": 15,
   "metadata": {},
   "outputs": [
    {
     "data": {
      "text/plain": [
       "0"
      ]
     },
     "execution_count": 15,
     "metadata": {},
     "output_type": "execute_result"
    }
   ],
   "source": [
    "topic_word_counts[2][\"nlp\"]"
   ]
  },
  {
   "cell_type": "code",
   "execution_count": 24,
   "metadata": {},
   "outputs": [],
   "source": [
    "def p_topic_given_document(topic, d, alpha=0.1):\n",
    "    \"\"\"문서 d의 모든 단어 중에서 topic에 속하는\n",
    "    단어의 비율 (smoothing을 더한 비율)\"\"\"\n",
    "    return ((document_topic_counts[d][topic] + alpha) /\n",
    "           (document_lengths[d] + K * alpha))"
   ]
  },
  {
   "cell_type": "code",
   "execution_count": 25,
   "metadata": {},
   "outputs": [],
   "source": [
    "def p_word_given_topic(word, topic, beta=0.1):\n",
    "    \"\"\"topic에 속한 단어 중에서 word의 비율 (smoothing을 더한 비율)\"\"\"\n",
    "    return ((topic_word_counts[topic][word] + beta) / \n",
    "           (topic_counts[topic] + W * beta))"
   ]
  },
  {
   "cell_type": "code",
   "execution_count": 26,
   "metadata": {},
   "outputs": [],
   "source": [
    "def topic_weight(d, word, k):\n",
    "    \"\"\"문서와 문서의 단어가 주어지면,\n",
    "    k번째 토픽의 weight를 반환\"\"\"\n",
    "    return p_word_given_topic(word, k) * p_topic_given_document(k, d)"
   ]
  },
  {
   "cell_type": "code",
   "execution_count": 27,
   "metadata": {},
   "outputs": [],
   "source": [
    "def choose_new_topic(d, word):\n",
    "    return sample_from([topic_weight(d, word, k)\n",
    "                        for k in range(K)])"
   ]
  },
  {
   "cell_type": "code",
   "execution_count": 28,
   "metadata": {},
   "outputs": [],
   "source": [
    "# 문서의 각 단어가 임의의 토픽의 것이라고 가정한다.\n",
    "random.seed(0)\n",
    "document_topics = [[random.randrange(K) for word in document]\n",
    "                   for document in documents]\n"
   ]
  },
  {
   "cell_type": "code",
   "execution_count": 29,
   "metadata": {},
   "outputs": [
    {
     "data": {
      "text/plain": [
       "[[3, 3, 0, 2, 3, 3, 2],\n",
       " [3, 2, 1, 1, 2],\n",
       " [1, 0, 2, 1, 2, 0],\n",
       " [0, 2, 3, 0, 2],\n",
       " [3, 2, 1, 3],\n",
       " [3, 2, 0, 0, 0, 3],\n",
       " [0, 3, 2, 1],\n",
       " [2, 0, 1, 1],\n",
       " [1, 1, 3, 0],\n",
       " [0, 2, 3, 0],\n",
       " [2, 2, 0],\n",
       " [2, 1, 2, 3],\n",
       " [0, 3, 2],\n",
       " [1, 2, 1, 1, 1],\n",
       " [0, 2, 3]]"
      ]
     },
     "execution_count": 29,
     "metadata": {},
     "output_type": "execute_result"
    }
   ],
   "source": [
    "# 문서의 각 단어가 임의의 토픽의 것이라고 가정한다. -> randrange로 할당\n",
    "document_topics"
   ]
  },
  {
   "cell_type": "code",
   "execution_count": 32,
   "metadata": {},
   "outputs": [],
   "source": [
    "# 문서내 토픽, 토픽내 단어 등장 카운트 하기\n",
    "\n",
    "for d in range(D):\n",
    "    for word, topic in zip(documents[d], document_topics[d]):\n",
    "        document_topic_counts[d][topic] += 1 # 문서의 토픽 매칭 카운트+1\n",
    "        topic_word_counts[topic][word] += 1  # 토픽의 단어 매칭 카운트+1\n",
    "        topic_counts[topic] += 1             # 토픽의 단어 개수+1"
   ]
  },
  {
   "cell_type": "code",
   "execution_count": 33,
   "metadata": {},
   "outputs": [
    {
     "data": {
      "text/plain": [
       "Counter({3: 4, 0: 1, 2: 2})"
      ]
     },
     "execution_count": 33,
     "metadata": {},
     "output_type": "execute_result"
    }
   ],
   "source": [
    "# document_topics에 나온 \"문서에 매칭되는 토픽 개수\"를 세어 놓음\n",
    "document_topic_counts[0]\n",
    "\n",
    "# [3, 3, 0, 2, 3, 3, 2] -> 3 4번, 0 1번 등..."
   ]
  },
  {
   "cell_type": "code",
   "execution_count": 34,
   "metadata": {},
   "outputs": [
    {
     "data": {
      "text/plain": [
       "Counter({'Cassandra': 1,\n",
       "         'HBase': 1,\n",
       "         'Python': 1,\n",
       "         'numpy': 1,\n",
       "         'decision trees': 1,\n",
       "         'theory': 1,\n",
       "         'Mahout': 1,\n",
       "         'neural networks': 2,\n",
       "         'deep learning': 2,\n",
       "         'databases': 1,\n",
       "         'Postgres': 1,\n",
       "         'MySQL': 1,\n",
       "         'MongoDB': 1})"
      ]
     },
     "execution_count": 34,
     "metadata": {},
     "output_type": "execute_result"
    }
   ],
   "source": [
    "topic_word_counts[1]"
   ]
  },
  {
   "cell_type": "code",
   "execution_count": 36,
   "metadata": {},
   "outputs": [],
   "source": [
    "# 깁슨 샘플링. 계속 돌면 수렴한다.\n",
    "for iter in range(1000):\n",
    "    for d in range(D):\n",
    "        for i, (word, topic) in enumerate(zip(documents[d],\n",
    "                                              document_topics[d])):\n",
    "\n",
    "            # remove this word / topic from the counts\n",
    "            # so that it doesn't influence the weights\n",
    "            document_topic_counts[d][topic] -= 1\n",
    "            topic_word_counts[topic][word] -= 1\n",
    "            topic_counts[topic] -= 1\n",
    "            document_lengths[d] -= 1\n",
    "\n",
    "            # choose a new topic based on the weights\n",
    "            new_topic = choose_new_topic(d, word)\n",
    "            document_topics[d][i] = new_topic\n",
    "\n",
    "            # and now add it back to the counts\n",
    "            document_topic_counts[d][new_topic] += 1\n",
    "            topic_word_counts[new_topic][word] += 1\n",
    "            topic_counts[new_topic] += 1\n",
    "            document_lengths[d] += 1"
   ]
  },
  {
   "cell_type": "code",
   "execution_count": 37,
   "metadata": {},
   "outputs": [
    {
     "name": "stdout",
     "output_type": "stream",
     "text": [
      "0 regression 2\n",
      "0 libsvm 2\n",
      "0 machine learning 2\n",
      "0 neural networks 2\n",
      "0 scikit-learn 1\n",
      "0 support vector machines 1\n",
      "0 probability 1\n",
      "0 Mahout 1\n",
      "0 mathematics 1\n",
      "1 Postgres 2\n",
      "1 MongoDB 2\n",
      "1 Cassandra 1\n",
      "1 MySQL 1\n",
      "1 artificial intelligence 1\n",
      "1 C++ 1\n",
      "2 Java 3\n",
      "2 HBase 3\n",
      "2 Big Data 3\n",
      "2 Hadoop 2\n",
      "2 Cassandra 1\n",
      "2 C++ 1\n",
      "2 artificial intelligence 1\n",
      "2 NoSQL 1\n",
      "2 Spark 1\n",
      "2 Storm 1\n",
      "2 Haskell 1\n",
      "2 programming languages 1\n",
      "2 MapReduce 1\n",
      "2 databases 1\n",
      "3 Python 4\n",
      "3 R 4\n",
      "3 statistics 3\n",
      "3 probability 2\n",
      "3 deep learning 2\n",
      "3 pandas 2\n",
      "3 statsmodels 2\n",
      "3 decision trees 1\n",
      "3 theory 1\n",
      "3 regression 1\n",
      "3 scipy 1\n",
      "3 scikit-learn 1\n",
      "3 numpy 1\n",
      "['Hadoop', 'Big Data', 'HBase', 'Java', 'Spark', 'Storm', 'Cassandra']\n",
      "Counter({2: 7, 3: 0, 0: 0, 1: 0})\n",
      "databases 7\n",
      "\n",
      "['NoSQL', 'MongoDB', 'Cassandra', 'HBase', 'Postgres']\n",
      "Counter({1: 3, 2: 2, 3: 0, 0: 0})\n",
      "Python and statistics 3\n",
      "databases 2\n",
      "\n",
      "['Python', 'scikit-learn', 'scipy', 'numpy', 'statsmodels', 'pandas']\n",
      "Counter({3: 6, 1: 0, 0: 0, 2: 0})\n",
      "machine learning 6\n",
      "\n",
      "['R', 'Python', 'statistics', 'regression', 'probability']\n",
      "Counter({3: 5, 0: 0, 2: 0, 1: 0})\n",
      "machine learning 5\n",
      "\n",
      "['machine learning', 'regression', 'decision trees', 'libsvm']\n",
      "Counter({0: 3, 3: 1, 2: 0, 1: 0})\n",
      "Big Data and programming languages 3\n",
      "machine learning 1\n",
      "\n",
      "['Python', 'R', 'Java', 'C++', 'Haskell', 'programming languages']\n",
      "Counter({2: 4, 3: 2, 0: 0, 1: 0})\n",
      "databases 4\n",
      "machine learning 2\n",
      "\n",
      "['statistics', 'probability', 'mathematics', 'theory']\n",
      "Counter({0: 2, 3: 2, 2: 0, 1: 0})\n",
      "Big Data and programming languages 2\n",
      "machine learning 2\n",
      "\n",
      "['machine learning', 'scikit-learn', 'Mahout', 'neural networks']\n",
      "Counter({0: 4, 2: 0, 1: 0, 3: 0})\n",
      "Big Data and programming languages 4\n",
      "\n",
      "['neural networks', 'deep learning', 'Big Data', 'artificial intelligence']\n",
      "Counter({2: 2, 3: 1, 0: 1, 1: 0})\n",
      "databases 2\n",
      "machine learning 1\n",
      "Big Data and programming languages 1\n",
      "\n",
      "['Hadoop', 'Java', 'MapReduce', 'Big Data']\n",
      "Counter({2: 4, 0: 0, 3: 0, 1: 0})\n",
      "databases 4\n",
      "\n",
      "['statistics', 'R', 'statsmodels']\n",
      "Counter({3: 3, 2: 0, 0: 0, 1: 0})\n",
      "machine learning 3\n",
      "\n",
      "['C++', 'deep learning', 'artificial intelligence', 'probability']\n",
      "Counter({1: 2, 3: 2, 2: 0, 0: 0})\n",
      "Python and statistics 2\n",
      "machine learning 2\n",
      "\n",
      "['pandas', 'R', 'Python']\n",
      "Counter({3: 3, 0: 0, 2: 0, 1: 0})\n",
      "machine learning 3\n",
      "\n",
      "['databases', 'HBase', 'Postgres', 'MySQL', 'MongoDB']\n",
      "Counter({1: 3, 2: 2, 3: 0, 0: 0})\n",
      "Python and statistics 3\n",
      "databases 2\n",
      "\n",
      "['libsvm', 'regression', 'support vector machines']\n",
      "Counter({0: 3, 2: 0, 3: 0, 1: 0})\n",
      "Big Data and programming languages 3\n",
      "\n"
     ]
    }
   ],
   "source": [
    "for k, word_counts in enumerate(topic_word_counts):\n",
    "    for word, count in word_counts.most_common():\n",
    "        if count > 0: print(k, word, count)\n",
    "\n",
    "topic_names = [\"Big Data and programming languages\",\n",
    "               \"Python and statistics\",\n",
    "               \"databases\",\n",
    "               \"machine learning\"]\n",
    "i=0\n",
    "for document, topic_counts in zip(documents, document_topic_counts):\n",
    "    print(document)\n",
    "    print(document_topic_counts[i])\n",
    "    i = i+1\n",
    "    for topic, count in topic_counts.most_common():\n",
    "        if count > 0:\n",
    "            print(topic_names[topic], count)\n",
    "    print(\"\")"
   ]
  },
  {
   "cell_type": "code",
   "execution_count": 38,
   "metadata": {},
   "outputs": [
    {
     "data": {
      "text/plain": [
       "[[2, 2, 2, 2, 2, 2, 2],\n",
       " [2, 1, 1, 2, 1],\n",
       " [3, 3, 3, 3, 3, 3],\n",
       " [3, 3, 3, 3, 3],\n",
       " [0, 0, 3, 0],\n",
       " [3, 3, 2, 2, 2, 2],\n",
       " [3, 0, 0, 3],\n",
       " [0, 0, 0, 0],\n",
       " [0, 3, 2, 2],\n",
       " [2, 2, 2, 2],\n",
       " [3, 3, 3],\n",
       " [1, 3, 1, 3],\n",
       " [3, 3, 3],\n",
       " [2, 2, 1, 1, 1],\n",
       " [0, 0, 0]]"
      ]
     },
     "execution_count": 38,
     "metadata": {},
     "output_type": "execute_result"
    }
   ],
   "source": [
    "document_topics"
   ]
  },
  {
   "cell_type": "code",
   "execution_count": null,
   "metadata": {},
   "outputs": [],
   "source": []
  }
 ],
 "metadata": {
  "kernelspec": {
   "display_name": "Python 3",
   "language": "python",
   "name": "python3"
  },
  "language_info": {
   "codemirror_mode": {
    "name": "ipython",
    "version": 3
   },
   "file_extension": ".py",
   "mimetype": "text/x-python",
   "name": "python",
   "nbconvert_exporter": "python",
   "pygments_lexer": "ipython3",
   "version": "3.6.5"
  }
 },
 "nbformat": 4,
 "nbformat_minor": 2
}
